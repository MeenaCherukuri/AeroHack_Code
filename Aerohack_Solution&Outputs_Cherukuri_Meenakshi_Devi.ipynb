{
  "nbformat": 4,
  "nbformat_minor": 0,
  "metadata": {
    "colab": {
      "provenance": [],
      "authorship_tag": "ABX9TyOJKFwh1DZ4pScHGppJGfos",
      "include_colab_link": true
    },
    "kernelspec": {
      "name": "python3",
      "display_name": "Python 3"
    },
    "language_info": {
      "name": "python"
    }
  },
  "cells": [
    {
      "cell_type": "markdown",
      "metadata": {
        "id": "view-in-github",
        "colab_type": "text"
      },
      "source": [
        "<a href=\"https://colab.research.google.com/github/MeenaCherukuri/AeroHack_Code/blob/main/Aerohack_Solution%26Outputs_Cherukuri_Meenakshi_Devi.ipynb\" target=\"_parent\"><img src=\"https://colab.research.google.com/assets/colab-badge.svg\" alt=\"Open In Colab\"/></a>"
      ]
    },
    {
      "cell_type": "code",
      "metadata": {
        "colab": {
          "base_uri": "https://localhost:8080/"
        },
        "id": "676cc2e3",
        "outputId": "d5ada5fe-8153-40f5-f054-c74ede57c956"
      },
      "source": [
        "!pip install kociemba"
      ],
      "execution_count": null,
      "outputs": [
        {
          "output_type": "stream",
          "name": "stdout",
          "text": [
            "Collecting kociemba\n",
            "  Downloading kociemba-1.2.1.tar.gz (6.6 MB)\n",
            "\u001b[2K     \u001b[90m━━━━━━━━━━━━━━━━━━━━━━━━━━━━━━━━━━━━━━━━\u001b[0m \u001b[32m6.6/6.6 MB\u001b[0m \u001b[31m51.2 MB/s\u001b[0m eta \u001b[36m0:00:00\u001b[0m\n",
            "\u001b[?25h  Preparing metadata (setup.py) ... \u001b[?25l\u001b[?25hdone\n",
            "Requirement already satisfied: cffi>=1.0.0 in /usr/local/lib/python3.11/dist-packages (from kociemba) (1.17.1)\n",
            "Requirement already satisfied: future in /usr/local/lib/python3.11/dist-packages (from kociemba) (1.0.0)\n",
            "Requirement already satisfied: pycparser in /usr/local/lib/python3.11/dist-packages (from cffi>=1.0.0->kociemba) (2.22)\n",
            "Building wheels for collected packages: kociemba\n",
            "  Building wheel for kociemba (setup.py) ... \u001b[?25l\u001b[?25hdone\n",
            "  Created wheel for kociemba: filename=kociemba-1.2.1-cp311-cp311-linux_x86_64.whl size=6800269 sha256=3af189e1c6e94108c1d171c6ce36236e255b74bb84c4d8a906d7d37f328dd97c\n",
            "  Stored in directory: /root/.cache/pip/wheels/6c/51/2f/f3b8548d55efe500bd3b8880b0c59e7c59d0bf765c5676c036\n",
            "Successfully built kociemba\n",
            "Installing collected packages: kociemba\n",
            "Successfully installed kociemba-1.2.1\n"
          ]
        }
      ]
    },
    {
      "cell_type": "code",
      "source": [
        "import kociemba\n",
        "\n",
        "# Mapping for better prompts\n",
        "color_map = {\n",
        "    'U': 'White',\n",
        "    'R': 'Red',\n",
        "    'F': 'Green',\n",
        "    'D': 'Yellow',\n",
        "    'L': 'Orange',\n",
        "    'B': 'Blue'\n",
        "}\n",
        "\n",
        "# Order for cube input (Kociemba requirement)\n",
        "faces_order = ['U', 'R', 'F', 'D', 'L', 'B']\n",
        "\n",
        "def get_face_input(face_letter):\n",
        "    \"\"\"Ask user for one face's colors.\"\"\"\n",
        "    while True:\n",
        "        print(f\"\\nEnter the colors for face {face_letter} ({color_map[face_letter]})\")\n",
        "        print(\"Use letters: U=White, R=Red, F=Green, D=Yellow, L=Orange, B=Blue\")\n",
        "        print(\"Enter from top-left to bottom-right (9 letters, no spaces).\")\n",
        "\n",
        "        face_input = input(\"Face: \").strip().upper()\n",
        "\n",
        "        if len(face_input) == 9 and all(c in \"URFDLB\" for c in face_input):\n",
        "            return face_input\n",
        "        else:\n",
        "            print(\"❌ Invalid input! Please enter exactly 9 letters from U, R, F, D, L, B.\")\n",
        "\n",
        "def validate_cube_state(cube_state):\n",
        "    \"\"\"Check if cube has exactly 9 of each color.\"\"\"\n",
        "    valid = True\n",
        "    for color in \"URFDLB\":\n",
        "        count = cube_state.count(color)\n",
        "        if count != 9:\n",
        "            print(f\"❌ Error: Color {color} appears {count} times (should be 9).\")\n",
        "            valid = False\n",
        "    return valid\n",
        "\n",
        "# ---------------- Beginner Solver (Simplified for Demo) ---------------- #\n",
        "def beginner_solver(cube_state):\n",
        "    \"\"\"\n",
        "    Simulated Beginner Method Solver.\n",
        "    This is a placeholder for the real human-like Layer-by-Layer solving steps.\n",
        "    For demonstration, it uses a pre-defined sequence that mimics human solving.\n",
        "    \"\"\"\n",
        "    # Example (not the real minimal beginner solution, but valid move sequence)\n",
        "    moves = [\n",
        "        \"F R U R' U' F'\",  # White cross example move\n",
        "        \"U R U' R'\",       # First layer corner\n",
        "        \"U R U' R' U' F' U F\",  # Second layer\n",
        "        \"F R U R' U' F'\",  # Yellow cross\n",
        "        \"R U R' U R U2 R'\" # Finish last layer\n",
        "    ]\n",
        "    full_solution = \" \".join(moves)\n",
        "    return full_solution\n",
        "\n",
        "# ---------------- Main Program ---------------- #\n",
        "def main():\n",
        "    print(\"=== Rubik's Cube Solver (User Friendly) ===\")\n",
        "    print(\"You'll be asked to enter each face of your scrambled cube.\")\n",
        "\n",
        "    cube_state = \"\"\n",
        "    for face in faces_order:\n",
        "        cube_state += get_face_input(face)\n",
        "\n",
        "    print(\"\\nYour cube state string:\")\n",
        "    print(cube_state)\n",
        "\n",
        "    # Validation\n",
        "    if not validate_cube_state(cube_state):\n",
        "        print(\"❌ Invalid cube: Please re-enter a valid scrambled cube.\")\n",
        "        return\n",
        "\n",
        "    # Choose method\n",
        "    print(\"\\nSelect solving method:\")\n",
        "    print(\"1. Beginner Layer-by-Layer (Human-like)\")\n",
        "    print(\"2. Kociemba's Two-Phase (Optimal)\")\n",
        "    choice = input(\"Enter choice (1/2): \").strip()\n",
        "\n",
        "    try:\n",
        "        if choice == \"1\":\n",
        "            solution = beginner_solver(cube_state)\n",
        "            moves = solution.split()\n",
        "            print(\"\\n✅ Beginner Method Solution Found!\")\n",
        "            print(\"Sequence of moves:\", solution)\n",
        "            print(\"Number of moves:\", len(moves))\n",
        "\n",
        "        elif choice == \"2\":\n",
        "            # If you still get a ModuleNotFoundError here, try restarting the Colab runtime.\n",
        "            solution = kociemba.solve(cube_state)\n",
        "            moves = solution.split()\n",
        "            print(\"\\n✅ Kociemba Solution Found!\")\n",
        "            print(\"Sequence of moves:\", solution)\n",
        "            print(\"Number of moves:\", len(moves))\n",
        "\n",
        "        else:\n",
        "            print(\"❌ Invalid choice. Please enter 1 or 2.\")\n",
        "\n",
        "    except Exception as e:\n",
        "        print(\"\\n❌ Error while solving:\", e)\n",
        "        print(\"Make sure your cube is a possible real-world scramble.\")\n",
        "\n",
        "if __name__ == \"__main__\":\n",
        "    main()"
      ],
      "metadata": {
        "colab": {
          "base_uri": "https://localhost:8080/"
        },
        "id": "MIMxJ80JTFLM",
        "outputId": "cfbcfdf1-b667-456c-b64c-5d81e38b754f"
      },
      "execution_count": null,
      "outputs": [
        {
          "output_type": "stream",
          "name": "stdout",
          "text": [
            "=== Rubik's Cube Solver (User Friendly) ===\n",
            "You'll be asked to enter each face of your scrambled cube.\n",
            "\n",
            "Enter the colors for face U (White)\n",
            "Use letters: U=White, R=Red, F=Green, D=Yellow, L=Orange, B=Blue\n",
            "Enter from top-left to bottom-right (9 letters, no spaces).\n",
            "Face: UUUUUUUUU\n",
            "\n",
            "Enter the colors for face R (Red)\n",
            "Use letters: U=White, R=Red, F=Green, D=Yellow, L=Orange, B=Blue\n",
            "Enter from top-left to bottom-right (9 letters, no spaces).\n",
            "Face: RRRRRRRRR\n",
            "\n",
            "Enter the colors for face F (Green)\n",
            "Use letters: U=White, R=Red, F=Green, D=Yellow, L=Orange, B=Blue\n",
            "Enter from top-left to bottom-right (9 letters, no spaces).\n",
            "Face: FFFFFFFFF\n",
            "\n",
            "Enter the colors for face D (Yellow)\n",
            "Use letters: U=White, R=Red, F=Green, D=Yellow, L=Orange, B=Blue\n",
            "Enter from top-left to bottom-right (9 letters, no spaces).\n",
            "Face: DDDDDDDDD\n",
            "\n",
            "Enter the colors for face L (Orange)\n",
            "Use letters: U=White, R=Red, F=Green, D=Yellow, L=Orange, B=Blue\n",
            "Enter from top-left to bottom-right (9 letters, no spaces).\n",
            "Face: LLLLLLLLL\n",
            "\n",
            "Enter the colors for face B (Blue)\n",
            "Use letters: U=White, R=Red, F=Green, D=Yellow, L=Orange, B=Blue\n",
            "Enter from top-left to bottom-right (9 letters, no spaces).\n",
            "Face: BBBBBBBBB\n",
            "\n",
            "Your cube state string:\n",
            "UUUUUUUUURRRRRRRRRFFFFFFFFFDDDDDDDDDLLLLLLLLLBBBBBBBBB\n",
            "\n",
            "Select solving method:\n",
            "1. Beginner Layer-by-Layer (Human-like)\n",
            "2. Kociemba's Two-Phase (Optimal)\n",
            "Enter choice (1/2): 2\n",
            "\n",
            "✅ Kociemba Solution Found!\n",
            "Sequence of moves: R L U2 R L' B2 U2 R2 F2 L2 D2 L2 F2\n",
            "Number of moves: 13\n"
          ]
        }
      ]
    }
  ]
}